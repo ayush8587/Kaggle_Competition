{
 "cells": [
  {
   "cell_type": "code",
   "execution_count": 1,
   "id": "bdaf9240",
   "metadata": {
    "_cell_guid": "b1076dfc-b9ad-4769-8c92-a6c4dae69d19",
    "_uuid": "8f2839f25d086af736a60e9eeb907d3b93b6e0e5",
    "execution": {
     "iopub.execute_input": "2023-08-17T17:33:22.579061Z",
     "iopub.status.busy": "2023-08-17T17:33:22.578711Z",
     "iopub.status.idle": "2023-08-17T17:33:22.592687Z",
     "shell.execute_reply": "2023-08-17T17:33:22.591220Z"
    },
    "papermill": {
     "duration": 0.028504,
     "end_time": "2023-08-17T17:33:22.595479",
     "exception": false,
     "start_time": "2023-08-17T17:33:22.566975",
     "status": "completed"
    },
    "tags": []
   },
   "outputs": [
    {
     "name": "stdout",
     "output_type": "stream",
     "text": [
      "/kaggle/input/titanic/train.csv\n",
      "/kaggle/input/titanic/test.csv\n",
      "/kaggle/input/titanic/gender_submission.csv\n"
     ]
    }
   ],
   "source": [
    "# This Python 3 environment comes with many helpful analytics libraries installed\n",
    "# It is defined by the kaggle/python Docker image: https://github.com/kaggle/docker-python\n",
    "# For example, here's several helpful packages to load\n",
    "\n",
    "import numpy as np # linear algebra\n",
    "import pandas as pd # data processing, CSV file I/O (e.g. pd.read_csv)\n",
    "import matplotlib.pyplot as plt\n",
    "%matplotlib inline\n",
    "# Input data files are available in the read-only \"../input/\" directory\n",
    "# For example, running this (by clicking run or pressing Shift+Enter) will list all files under the input directory\n",
    "\n",
    "import os\n",
    "for dirname, _, filenames in os.walk('/kaggle/input'):\n",
    "    for filename in filenames:\n",
    "        print(os.path.join(dirname, filename))\n",
    "\n",
    "# You can write up to 20GB to the current directory (/kaggle/working/) that gets preserved as output when you create a version using \"Save & Run All\" \n",
    "# You can also write temporary files to /kaggle/temp/, but they won't be saved outside of the current session"
   ]
  },
  {
   "cell_type": "code",
   "execution_count": 2,
   "id": "ff108dde",
   "metadata": {
    "execution": {
     "iopub.execute_input": "2023-08-17T17:33:22.612724Z",
     "iopub.status.busy": "2023-08-17T17:33:22.612330Z",
     "iopub.status.idle": "2023-08-17T17:33:22.658890Z",
     "shell.execute_reply": "2023-08-17T17:33:22.658043Z"
    },
    "papermill": {
     "duration": 0.057513,
     "end_time": "2023-08-17T17:33:22.660941",
     "exception": false,
     "start_time": "2023-08-17T17:33:22.603428",
     "status": "completed"
    },
    "tags": []
   },
   "outputs": [
    {
     "data": {
      "text/html": [
       "<div>\n",
       "<style scoped>\n",
       "    .dataframe tbody tr th:only-of-type {\n",
       "        vertical-align: middle;\n",
       "    }\n",
       "\n",
       "    .dataframe tbody tr th {\n",
       "        vertical-align: top;\n",
       "    }\n",
       "\n",
       "    .dataframe thead th {\n",
       "        text-align: right;\n",
       "    }\n",
       "</style>\n",
       "<table border=\"1\" class=\"dataframe\">\n",
       "  <thead>\n",
       "    <tr style=\"text-align: right;\">\n",
       "      <th></th>\n",
       "      <th>PassengerId</th>\n",
       "      <th>Survived</th>\n",
       "      <th>Pclass</th>\n",
       "      <th>Name</th>\n",
       "      <th>Sex</th>\n",
       "      <th>Age</th>\n",
       "      <th>SibSp</th>\n",
       "      <th>Parch</th>\n",
       "      <th>Ticket</th>\n",
       "      <th>Fare</th>\n",
       "      <th>Cabin</th>\n",
       "      <th>Embarked</th>\n",
       "    </tr>\n",
       "  </thead>\n",
       "  <tbody>\n",
       "    <tr>\n",
       "      <th>0</th>\n",
       "      <td>1</td>\n",
       "      <td>0</td>\n",
       "      <td>3</td>\n",
       "      <td>Braund, Mr. Owen Harris</td>\n",
       "      <td>male</td>\n",
       "      <td>22.0</td>\n",
       "      <td>1</td>\n",
       "      <td>0</td>\n",
       "      <td>A/5 21171</td>\n",
       "      <td>7.2500</td>\n",
       "      <td>NaN</td>\n",
       "      <td>S</td>\n",
       "    </tr>\n",
       "    <tr>\n",
       "      <th>1</th>\n",
       "      <td>2</td>\n",
       "      <td>1</td>\n",
       "      <td>1</td>\n",
       "      <td>Cumings, Mrs. John Bradley (Florence Briggs Th...</td>\n",
       "      <td>female</td>\n",
       "      <td>38.0</td>\n",
       "      <td>1</td>\n",
       "      <td>0</td>\n",
       "      <td>PC 17599</td>\n",
       "      <td>71.2833</td>\n",
       "      <td>C85</td>\n",
       "      <td>C</td>\n",
       "    </tr>\n",
       "    <tr>\n",
       "      <th>2</th>\n",
       "      <td>3</td>\n",
       "      <td>1</td>\n",
       "      <td>3</td>\n",
       "      <td>Heikkinen, Miss. Laina</td>\n",
       "      <td>female</td>\n",
       "      <td>26.0</td>\n",
       "      <td>0</td>\n",
       "      <td>0</td>\n",
       "      <td>STON/O2. 3101282</td>\n",
       "      <td>7.9250</td>\n",
       "      <td>NaN</td>\n",
       "      <td>S</td>\n",
       "    </tr>\n",
       "    <tr>\n",
       "      <th>3</th>\n",
       "      <td>4</td>\n",
       "      <td>1</td>\n",
       "      <td>1</td>\n",
       "      <td>Futrelle, Mrs. Jacques Heath (Lily May Peel)</td>\n",
       "      <td>female</td>\n",
       "      <td>35.0</td>\n",
       "      <td>1</td>\n",
       "      <td>0</td>\n",
       "      <td>113803</td>\n",
       "      <td>53.1000</td>\n",
       "      <td>C123</td>\n",
       "      <td>S</td>\n",
       "    </tr>\n",
       "    <tr>\n",
       "      <th>4</th>\n",
       "      <td>5</td>\n",
       "      <td>0</td>\n",
       "      <td>3</td>\n",
       "      <td>Allen, Mr. William Henry</td>\n",
       "      <td>male</td>\n",
       "      <td>35.0</td>\n",
       "      <td>0</td>\n",
       "      <td>0</td>\n",
       "      <td>373450</td>\n",
       "      <td>8.0500</td>\n",
       "      <td>NaN</td>\n",
       "      <td>S</td>\n",
       "    </tr>\n",
       "  </tbody>\n",
       "</table>\n",
       "</div>"
      ],
      "text/plain": [
       "   PassengerId  Survived  Pclass  \\\n",
       "0            1         0       3   \n",
       "1            2         1       1   \n",
       "2            3         1       3   \n",
       "3            4         1       1   \n",
       "4            5         0       3   \n",
       "\n",
       "                                                Name     Sex   Age  SibSp  \\\n",
       "0                            Braund, Mr. Owen Harris    male  22.0      1   \n",
       "1  Cumings, Mrs. John Bradley (Florence Briggs Th...  female  38.0      1   \n",
       "2                             Heikkinen, Miss. Laina  female  26.0      0   \n",
       "3       Futrelle, Mrs. Jacques Heath (Lily May Peel)  female  35.0      1   \n",
       "4                           Allen, Mr. William Henry    male  35.0      0   \n",
       "\n",
       "   Parch            Ticket     Fare Cabin Embarked  \n",
       "0      0         A/5 21171   7.2500   NaN        S  \n",
       "1      0          PC 17599  71.2833   C85        C  \n",
       "2      0  STON/O2. 3101282   7.9250   NaN        S  \n",
       "3      0            113803  53.1000  C123        S  \n",
       "4      0            373450   8.0500   NaN        S  "
      ]
     },
     "execution_count": 2,
     "metadata": {},
     "output_type": "execute_result"
    }
   ],
   "source": [
    "train=pd.read_csv('/kaggle/input/titanic/train.csv')\n",
    "train.head()"
   ]
  },
  {
   "cell_type": "code",
   "execution_count": 3,
   "id": "63a5b9ef",
   "metadata": {
    "execution": {
     "iopub.execute_input": "2023-08-17T17:33:22.678594Z",
     "iopub.status.busy": "2023-08-17T17:33:22.678219Z",
     "iopub.status.idle": "2023-08-17T17:33:22.690567Z",
     "shell.execute_reply": "2023-08-17T17:33:22.689648Z"
    },
    "papermill": {
     "duration": 0.023915,
     "end_time": "2023-08-17T17:33:22.692816",
     "exception": false,
     "start_time": "2023-08-17T17:33:22.668901",
     "status": "completed"
    },
    "tags": []
   },
   "outputs": [
    {
     "data": {
      "text/plain": [
       "PassengerId      0\n",
       "Survived         0\n",
       "Pclass           0\n",
       "Name             0\n",
       "Sex              0\n",
       "Age            177\n",
       "SibSp            0\n",
       "Parch            0\n",
       "Ticket           0\n",
       "Fare             0\n",
       "Cabin          687\n",
       "Embarked         2\n",
       "dtype: int64"
      ]
     },
     "execution_count": 3,
     "metadata": {},
     "output_type": "execute_result"
    }
   ],
   "source": [
    "train.isnull().sum()"
   ]
  },
  {
   "cell_type": "code",
   "execution_count": 4,
   "id": "a8e47f67",
   "metadata": {
    "execution": {
     "iopub.execute_input": "2023-08-17T17:33:22.710441Z",
     "iopub.status.busy": "2023-08-17T17:33:22.710080Z",
     "iopub.status.idle": "2023-08-17T17:33:22.718535Z",
     "shell.execute_reply": "2023-08-17T17:33:22.716877Z"
    },
    "papermill": {
     "duration": 0.019923,
     "end_time": "2023-08-17T17:33:22.720825",
     "exception": false,
     "start_time": "2023-08-17T17:33:22.700902",
     "status": "completed"
    },
    "tags": []
   },
   "outputs": [],
   "source": [
    "train.set_index('PassengerId',inplace=True)"
   ]
  },
  {
   "cell_type": "code",
   "execution_count": 5,
   "id": "545c04f1",
   "metadata": {
    "execution": {
     "iopub.execute_input": "2023-08-17T17:33:22.738205Z",
     "iopub.status.busy": "2023-08-17T17:33:22.737677Z",
     "iopub.status.idle": "2023-08-17T17:33:22.745264Z",
     "shell.execute_reply": "2023-08-17T17:33:22.743907Z"
    },
    "papermill": {
     "duration": 0.019315,
     "end_time": "2023-08-17T17:33:22.747958",
     "exception": false,
     "start_time": "2023-08-17T17:33:22.728643",
     "status": "completed"
    },
    "tags": []
   },
   "outputs": [
    {
     "data": {
      "text/plain": [
       "(891, 11)"
      ]
     },
     "execution_count": 5,
     "metadata": {},
     "output_type": "execute_result"
    }
   ],
   "source": [
    "train.shape"
   ]
  },
  {
   "cell_type": "code",
   "execution_count": 6,
   "id": "21812de0",
   "metadata": {
    "execution": {
     "iopub.execute_input": "2023-08-17T17:33:22.766597Z",
     "iopub.status.busy": "2023-08-17T17:33:22.766233Z",
     "iopub.status.idle": "2023-08-17T17:33:22.793473Z",
     "shell.execute_reply": "2023-08-17T17:33:22.791529Z"
    },
    "papermill": {
     "duration": 0.039079,
     "end_time": "2023-08-17T17:33:22.795598",
     "exception": false,
     "start_time": "2023-08-17T17:33:22.756519",
     "status": "completed"
    },
    "tags": []
   },
   "outputs": [
    {
     "name": "stdout",
     "output_type": "stream",
     "text": [
      "<class 'pandas.core.frame.DataFrame'>\n",
      "Int64Index: 891 entries, 1 to 891\n",
      "Data columns (total 11 columns):\n",
      " #   Column    Non-Null Count  Dtype  \n",
      "---  ------    --------------  -----  \n",
      " 0   Survived  891 non-null    int64  \n",
      " 1   Pclass    891 non-null    int64  \n",
      " 2   Name      891 non-null    object \n",
      " 3   Sex       891 non-null    object \n",
      " 4   Age       714 non-null    float64\n",
      " 5   SibSp     891 non-null    int64  \n",
      " 6   Parch     891 non-null    int64  \n",
      " 7   Ticket    891 non-null    object \n",
      " 8   Fare      891 non-null    float64\n",
      " 9   Cabin     204 non-null    object \n",
      " 10  Embarked  889 non-null    object \n",
      "dtypes: float64(2), int64(4), object(5)\n",
      "memory usage: 83.5+ KB\n"
     ]
    }
   ],
   "source": [
    "train.info()"
   ]
  },
  {
   "cell_type": "code",
   "execution_count": 7,
   "id": "4740c573",
   "metadata": {
    "execution": {
     "iopub.execute_input": "2023-08-17T17:33:22.815167Z",
     "iopub.status.busy": "2023-08-17T17:33:22.814745Z",
     "iopub.status.idle": "2023-08-17T17:33:22.846680Z",
     "shell.execute_reply": "2023-08-17T17:33:22.845723Z"
    },
    "papermill": {
     "duration": 0.045187,
     "end_time": "2023-08-17T17:33:22.849371",
     "exception": false,
     "start_time": "2023-08-17T17:33:22.804184",
     "status": "completed"
    },
    "tags": []
   },
   "outputs": [
    {
     "data": {
      "text/html": [
       "<div>\n",
       "<style scoped>\n",
       "    .dataframe tbody tr th:only-of-type {\n",
       "        vertical-align: middle;\n",
       "    }\n",
       "\n",
       "    .dataframe tbody tr th {\n",
       "        vertical-align: top;\n",
       "    }\n",
       "\n",
       "    .dataframe thead th {\n",
       "        text-align: right;\n",
       "    }\n",
       "</style>\n",
       "<table border=\"1\" class=\"dataframe\">\n",
       "  <thead>\n",
       "    <tr style=\"text-align: right;\">\n",
       "      <th></th>\n",
       "      <th>Survived</th>\n",
       "      <th>Pclass</th>\n",
       "      <th>Age</th>\n",
       "      <th>SibSp</th>\n",
       "      <th>Parch</th>\n",
       "      <th>Fare</th>\n",
       "    </tr>\n",
       "  </thead>\n",
       "  <tbody>\n",
       "    <tr>\n",
       "      <th>count</th>\n",
       "      <td>891.000000</td>\n",
       "      <td>891.000000</td>\n",
       "      <td>714.000000</td>\n",
       "      <td>891.000000</td>\n",
       "      <td>891.000000</td>\n",
       "      <td>891.000000</td>\n",
       "    </tr>\n",
       "    <tr>\n",
       "      <th>mean</th>\n",
       "      <td>0.383838</td>\n",
       "      <td>2.308642</td>\n",
       "      <td>29.699118</td>\n",
       "      <td>0.523008</td>\n",
       "      <td>0.381594</td>\n",
       "      <td>32.204208</td>\n",
       "    </tr>\n",
       "    <tr>\n",
       "      <th>std</th>\n",
       "      <td>0.486592</td>\n",
       "      <td>0.836071</td>\n",
       "      <td>14.526497</td>\n",
       "      <td>1.102743</td>\n",
       "      <td>0.806057</td>\n",
       "      <td>49.693429</td>\n",
       "    </tr>\n",
       "    <tr>\n",
       "      <th>min</th>\n",
       "      <td>0.000000</td>\n",
       "      <td>1.000000</td>\n",
       "      <td>0.420000</td>\n",
       "      <td>0.000000</td>\n",
       "      <td>0.000000</td>\n",
       "      <td>0.000000</td>\n",
       "    </tr>\n",
       "    <tr>\n",
       "      <th>25%</th>\n",
       "      <td>0.000000</td>\n",
       "      <td>2.000000</td>\n",
       "      <td>20.125000</td>\n",
       "      <td>0.000000</td>\n",
       "      <td>0.000000</td>\n",
       "      <td>7.910400</td>\n",
       "    </tr>\n",
       "    <tr>\n",
       "      <th>50%</th>\n",
       "      <td>0.000000</td>\n",
       "      <td>3.000000</td>\n",
       "      <td>28.000000</td>\n",
       "      <td>0.000000</td>\n",
       "      <td>0.000000</td>\n",
       "      <td>14.454200</td>\n",
       "    </tr>\n",
       "    <tr>\n",
       "      <th>75%</th>\n",
       "      <td>1.000000</td>\n",
       "      <td>3.000000</td>\n",
       "      <td>38.000000</td>\n",
       "      <td>1.000000</td>\n",
       "      <td>0.000000</td>\n",
       "      <td>31.000000</td>\n",
       "    </tr>\n",
       "    <tr>\n",
       "      <th>max</th>\n",
       "      <td>1.000000</td>\n",
       "      <td>3.000000</td>\n",
       "      <td>80.000000</td>\n",
       "      <td>8.000000</td>\n",
       "      <td>6.000000</td>\n",
       "      <td>512.329200</td>\n",
       "    </tr>\n",
       "  </tbody>\n",
       "</table>\n",
       "</div>"
      ],
      "text/plain": [
       "         Survived      Pclass         Age       SibSp       Parch        Fare\n",
       "count  891.000000  891.000000  714.000000  891.000000  891.000000  891.000000\n",
       "mean     0.383838    2.308642   29.699118    0.523008    0.381594   32.204208\n",
       "std      0.486592    0.836071   14.526497    1.102743    0.806057   49.693429\n",
       "min      0.000000    1.000000    0.420000    0.000000    0.000000    0.000000\n",
       "25%      0.000000    2.000000   20.125000    0.000000    0.000000    7.910400\n",
       "50%      0.000000    3.000000   28.000000    0.000000    0.000000   14.454200\n",
       "75%      1.000000    3.000000   38.000000    1.000000    0.000000   31.000000\n",
       "max      1.000000    3.000000   80.000000    8.000000    6.000000  512.329200"
      ]
     },
     "execution_count": 7,
     "metadata": {},
     "output_type": "execute_result"
    }
   ],
   "source": [
    "train.describe()"
   ]
  },
  {
   "cell_type": "code",
   "execution_count": 8,
   "id": "cc72a5b1",
   "metadata": {
    "execution": {
     "iopub.execute_input": "2023-08-17T17:33:22.869438Z",
     "iopub.status.busy": "2023-08-17T17:33:22.868986Z",
     "iopub.status.idle": "2023-08-17T17:33:22.877404Z",
     "shell.execute_reply": "2023-08-17T17:33:22.875570Z"
    },
    "papermill": {
     "duration": 0.021614,
     "end_time": "2023-08-17T17:33:22.880428",
     "exception": false,
     "start_time": "2023-08-17T17:33:22.858814",
     "status": "completed"
    },
    "tags": []
   },
   "outputs": [
    {
     "data": {
      "text/plain": [
       "S    644\n",
       "C    168\n",
       "Q     77\n",
       "Name: Embarked, dtype: int64"
      ]
     },
     "execution_count": 8,
     "metadata": {},
     "output_type": "execute_result"
    }
   ],
   "source": [
    "train.Embarked.value_counts()"
   ]
  },
  {
   "cell_type": "code",
   "execution_count": 9,
   "id": "867c7eb9",
   "metadata": {
    "execution": {
     "iopub.execute_input": "2023-08-17T17:33:22.900432Z",
     "iopub.status.busy": "2023-08-17T17:33:22.899623Z",
     "iopub.status.idle": "2023-08-17T17:33:22.905841Z",
     "shell.execute_reply": "2023-08-17T17:33:22.904740Z"
    },
    "papermill": {
     "duration": 0.018914,
     "end_time": "2023-08-17T17:33:22.908367",
     "exception": false,
     "start_time": "2023-08-17T17:33:22.889453",
     "status": "completed"
    },
    "tags": []
   },
   "outputs": [],
   "source": [
    "train['Embarked']=train['Embarked'].map({\n",
    "    'S':0,\n",
    "    'C':1,\n",
    "    'Q':2\n",
    "})"
   ]
  },
  {
   "cell_type": "code",
   "execution_count": 10,
   "id": "467b49f2",
   "metadata": {
    "execution": {
     "iopub.execute_input": "2023-08-17T17:33:22.928509Z",
     "iopub.status.busy": "2023-08-17T17:33:22.927964Z",
     "iopub.status.idle": "2023-08-17T17:33:22.936827Z",
     "shell.execute_reply": "2023-08-17T17:33:22.935582Z"
    },
    "papermill": {
     "duration": 0.02132,
     "end_time": "2023-08-17T17:33:22.938951",
     "exception": false,
     "start_time": "2023-08-17T17:33:22.917631",
     "status": "completed"
    },
    "tags": []
   },
   "outputs": [
    {
     "data": {
      "text/plain": [
       "Survived      0\n",
       "Pclass        0\n",
       "Name          0\n",
       "Sex           0\n",
       "Age         177\n",
       "SibSp         0\n",
       "Parch         0\n",
       "Ticket        0\n",
       "Fare          0\n",
       "Cabin       687\n",
       "Embarked      2\n",
       "dtype: int64"
      ]
     },
     "execution_count": 10,
     "metadata": {},
     "output_type": "execute_result"
    }
   ],
   "source": [
    "train.isnull().sum()"
   ]
  },
  {
   "cell_type": "code",
   "execution_count": 11,
   "id": "cdc55d40",
   "metadata": {
    "execution": {
     "iopub.execute_input": "2023-08-17T17:33:22.959023Z",
     "iopub.status.busy": "2023-08-17T17:33:22.958457Z",
     "iopub.status.idle": "2023-08-17T17:33:22.966651Z",
     "shell.execute_reply": "2023-08-17T17:33:22.965880Z"
    },
    "papermill": {
     "duration": 0.021086,
     "end_time": "2023-08-17T17:33:22.969029",
     "exception": false,
     "start_time": "2023-08-17T17:33:22.947943",
     "status": "completed"
    },
    "tags": []
   },
   "outputs": [],
   "source": [
    "train.Age=train.Age.interpolate()"
   ]
  },
  {
   "cell_type": "code",
   "execution_count": 12,
   "id": "12834179",
   "metadata": {
    "execution": {
     "iopub.execute_input": "2023-08-17T17:33:22.988776Z",
     "iopub.status.busy": "2023-08-17T17:33:22.988175Z",
     "iopub.status.idle": "2023-08-17T17:33:22.998896Z",
     "shell.execute_reply": "2023-08-17T17:33:22.997896Z"
    },
    "papermill": {
     "duration": 0.023306,
     "end_time": "2023-08-17T17:33:23.001255",
     "exception": false,
     "start_time": "2023-08-17T17:33:22.977949",
     "status": "completed"
    },
    "tags": []
   },
   "outputs": [
    {
     "data": {
      "text/plain": [
       "Survived      0\n",
       "Pclass        0\n",
       "Name          0\n",
       "Sex           0\n",
       "Age           0\n",
       "SibSp         0\n",
       "Parch         0\n",
       "Ticket        0\n",
       "Fare          0\n",
       "Cabin       687\n",
       "Embarked      2\n",
       "dtype: int64"
      ]
     },
     "execution_count": 12,
     "metadata": {},
     "output_type": "execute_result"
    }
   ],
   "source": [
    "train.isnull().sum()"
   ]
  },
  {
   "cell_type": "code",
   "execution_count": 13,
   "id": "3163c4a1",
   "metadata": {
    "execution": {
     "iopub.execute_input": "2023-08-17T17:33:23.023622Z",
     "iopub.status.busy": "2023-08-17T17:33:23.022750Z",
     "iopub.status.idle": "2023-08-17T17:33:23.032728Z",
     "shell.execute_reply": "2023-08-17T17:33:23.031496Z"
    },
    "papermill": {
     "duration": 0.023648,
     "end_time": "2023-08-17T17:33:23.035092",
     "exception": false,
     "start_time": "2023-08-17T17:33:23.011444",
     "status": "completed"
    },
    "tags": []
   },
   "outputs": [],
   "source": [
    "train.Embarked=train.Embarked.interpolate(method='pad')"
   ]
  },
  {
   "cell_type": "code",
   "execution_count": 14,
   "id": "e79f506e",
   "metadata": {
    "execution": {
     "iopub.execute_input": "2023-08-17T17:33:23.059659Z",
     "iopub.status.busy": "2023-08-17T17:33:23.059276Z",
     "iopub.status.idle": "2023-08-17T17:33:23.070991Z",
     "shell.execute_reply": "2023-08-17T17:33:23.069208Z"
    },
    "papermill": {
     "duration": 0.026852,
     "end_time": "2023-08-17T17:33:23.074376",
     "exception": false,
     "start_time": "2023-08-17T17:33:23.047524",
     "status": "completed"
    },
    "tags": []
   },
   "outputs": [
    {
     "data": {
      "text/plain": [
       "Survived      0\n",
       "Pclass        0\n",
       "Name          0\n",
       "Sex           0\n",
       "Age           0\n",
       "SibSp         0\n",
       "Parch         0\n",
       "Ticket        0\n",
       "Fare          0\n",
       "Cabin       687\n",
       "Embarked      0\n",
       "dtype: int64"
      ]
     },
     "execution_count": 14,
     "metadata": {},
     "output_type": "execute_result"
    }
   ],
   "source": [
    "train.isnull().sum()"
   ]
  },
  {
   "cell_type": "code",
   "execution_count": 15,
   "id": "52cfa5df",
   "metadata": {
    "execution": {
     "iopub.execute_input": "2023-08-17T17:33:23.098043Z",
     "iopub.status.busy": "2023-08-17T17:33:23.097617Z",
     "iopub.status.idle": "2023-08-17T17:33:23.106023Z",
     "shell.execute_reply": "2023-08-17T17:33:23.104721Z"
    },
    "papermill": {
     "duration": 0.022707,
     "end_time": "2023-08-17T17:33:23.108542",
     "exception": false,
     "start_time": "2023-08-17T17:33:23.085835",
     "status": "completed"
    },
    "tags": []
   },
   "outputs": [
    {
     "data": {
      "text/plain": [
       "male      577\n",
       "female    314\n",
       "Name: Sex, dtype: int64"
      ]
     },
     "execution_count": 15,
     "metadata": {},
     "output_type": "execute_result"
    }
   ],
   "source": [
    "train.Sex.value_counts()"
   ]
  },
  {
   "cell_type": "code",
   "execution_count": 16,
   "id": "61b150f4",
   "metadata": {
    "execution": {
     "iopub.execute_input": "2023-08-17T17:33:23.130229Z",
     "iopub.status.busy": "2023-08-17T17:33:23.129554Z",
     "iopub.status.idle": "2023-08-17T17:33:23.135655Z",
     "shell.execute_reply": "2023-08-17T17:33:23.134851Z"
    },
    "papermill": {
     "duration": 0.019646,
     "end_time": "2023-08-17T17:33:23.138886",
     "exception": false,
     "start_time": "2023-08-17T17:33:23.119240",
     "status": "completed"
    },
    "tags": []
   },
   "outputs": [],
   "source": [
    "train['Sex']=train['Sex'].map({\n",
    "    'female':1,\n",
    "    'male':0\n",
    "})"
   ]
  },
  {
   "cell_type": "code",
   "execution_count": 17,
   "id": "a38e97c2",
   "metadata": {
    "execution": {
     "iopub.execute_input": "2023-08-17T17:33:23.158984Z",
     "iopub.status.busy": "2023-08-17T17:33:23.158642Z",
     "iopub.status.idle": "2023-08-17T17:33:23.170282Z",
     "shell.execute_reply": "2023-08-17T17:33:23.169183Z"
    },
    "papermill": {
     "duration": 0.02345,
     "end_time": "2023-08-17T17:33:23.172257",
     "exception": false,
     "start_time": "2023-08-17T17:33:23.148807",
     "status": "completed"
    },
    "tags": []
   },
   "outputs": [
    {
     "name": "stdout",
     "output_type": "stream",
     "text": [
      "<class 'pandas.core.frame.DataFrame'>\n",
      "Int64Index: 891 entries, 1 to 891\n",
      "Data columns (total 11 columns):\n",
      " #   Column    Non-Null Count  Dtype  \n",
      "---  ------    --------------  -----  \n",
      " 0   Survived  891 non-null    int64  \n",
      " 1   Pclass    891 non-null    int64  \n",
      " 2   Name      891 non-null    object \n",
      " 3   Sex       891 non-null    int64  \n",
      " 4   Age       891 non-null    float64\n",
      " 5   SibSp     891 non-null    int64  \n",
      " 6   Parch     891 non-null    int64  \n",
      " 7   Ticket    891 non-null    object \n",
      " 8   Fare      891 non-null    float64\n",
      " 9   Cabin     204 non-null    object \n",
      " 10  Embarked  891 non-null    float64\n",
      "dtypes: float64(3), int64(5), object(3)\n",
      "memory usage: 83.5+ KB\n"
     ]
    }
   ],
   "source": [
    "train.info()"
   ]
  },
  {
   "cell_type": "code",
   "execution_count": 18,
   "id": "2dfebd9d",
   "metadata": {
    "execution": {
     "iopub.execute_input": "2023-08-17T17:33:23.191522Z",
     "iopub.status.busy": "2023-08-17T17:33:23.190969Z",
     "iopub.status.idle": "2023-08-17T17:33:23.198541Z",
     "shell.execute_reply": "2023-08-17T17:33:23.197042Z"
    },
    "papermill": {
     "duration": 0.020304,
     "end_time": "2023-08-17T17:33:23.201270",
     "exception": false,
     "start_time": "2023-08-17T17:33:23.180966",
     "status": "completed"
    },
    "tags": []
   },
   "outputs": [],
   "source": [
    "y=train['Survived']\n",
    "X=train.drop(['Survived','Cabin','Ticket','Name'],axis=1)"
   ]
  },
  {
   "cell_type": "code",
   "execution_count": 19,
   "id": "1acb596f",
   "metadata": {
    "execution": {
     "iopub.execute_input": "2023-08-17T17:33:23.222342Z",
     "iopub.status.busy": "2023-08-17T17:33:23.221947Z",
     "iopub.status.idle": "2023-08-17T17:33:23.231504Z",
     "shell.execute_reply": "2023-08-17T17:33:23.230273Z"
    },
    "papermill": {
     "duration": 0.023157,
     "end_time": "2023-08-17T17:33:23.233578",
     "exception": false,
     "start_time": "2023-08-17T17:33:23.210421",
     "status": "completed"
    },
    "tags": []
   },
   "outputs": [
    {
     "data": {
      "text/plain": [
       "Pclass      0\n",
       "Sex         0\n",
       "Age         0\n",
       "SibSp       0\n",
       "Parch       0\n",
       "Fare        0\n",
       "Embarked    0\n",
       "dtype: int64"
      ]
     },
     "execution_count": 19,
     "metadata": {},
     "output_type": "execute_result"
    }
   ],
   "source": [
    "X.isnull().sum()"
   ]
  },
  {
   "cell_type": "code",
   "execution_count": 20,
   "id": "b9b45430",
   "metadata": {
    "execution": {
     "iopub.execute_input": "2023-08-17T17:33:23.254598Z",
     "iopub.status.busy": "2023-08-17T17:33:23.253406Z",
     "iopub.status.idle": "2023-08-17T17:33:24.787898Z",
     "shell.execute_reply": "2023-08-17T17:33:24.786016Z"
    },
    "papermill": {
     "duration": 1.548391,
     "end_time": "2023-08-17T17:33:24.790894",
     "exception": false,
     "start_time": "2023-08-17T17:33:23.242503",
     "status": "completed"
    },
    "tags": []
   },
   "outputs": [
    {
     "name": "stderr",
     "output_type": "stream",
     "text": [
      "/opt/conda/lib/python3.10/site-packages/scipy/__init__.py:146: UserWarning: A NumPy version >=1.16.5 and <1.23.0 is required for this version of SciPy (detected version 1.23.5\n",
      "  warnings.warn(f\"A NumPy version >={np_minversion} and <{np_maxversion}\"\n"
     ]
    }
   ],
   "source": [
    "from sklearn.model_selection import train_test_split\n",
    "X_train,X_test,y_train,y_test=train_test_split(X,y,random_state=2529)"
   ]
  },
  {
   "cell_type": "code",
   "execution_count": 21,
   "id": "b84f1873",
   "metadata": {
    "execution": {
     "iopub.execute_input": "2023-08-17T17:33:24.811535Z",
     "iopub.status.busy": "2023-08-17T17:33:24.811145Z",
     "iopub.status.idle": "2023-08-17T17:33:24.819021Z",
     "shell.execute_reply": "2023-08-17T17:33:24.817848Z"
    },
    "papermill": {
     "duration": 0.020462,
     "end_time": "2023-08-17T17:33:24.820989",
     "exception": false,
     "start_time": "2023-08-17T17:33:24.800527",
     "status": "completed"
    },
    "tags": []
   },
   "outputs": [
    {
     "data": {
      "text/plain": [
       "((668, 7), (223, 7), (668,), (223,))"
      ]
     },
     "execution_count": 21,
     "metadata": {},
     "output_type": "execute_result"
    }
   ],
   "source": [
    "X_train.shape,X_test.shape,y_train.shape,y_test.shape"
   ]
  },
  {
   "cell_type": "code",
   "execution_count": 22,
   "id": "738431d2",
   "metadata": {
    "execution": {
     "iopub.execute_input": "2023-08-17T17:33:24.842228Z",
     "iopub.status.busy": "2023-08-17T17:33:24.841552Z",
     "iopub.status.idle": "2023-08-17T17:33:25.003966Z",
     "shell.execute_reply": "2023-08-17T17:33:25.002902Z"
    },
    "papermill": {
     "duration": 0.175368,
     "end_time": "2023-08-17T17:33:25.005968",
     "exception": false,
     "start_time": "2023-08-17T17:33:24.830600",
     "status": "completed"
    },
    "tags": []
   },
   "outputs": [
    {
     "data": {
      "text/html": [
       "<style>#sk-container-id-1 {color: black;background-color: white;}#sk-container-id-1 pre{padding: 0;}#sk-container-id-1 div.sk-toggleable {background-color: white;}#sk-container-id-1 label.sk-toggleable__label {cursor: pointer;display: block;width: 100%;margin-bottom: 0;padding: 0.3em;box-sizing: border-box;text-align: center;}#sk-container-id-1 label.sk-toggleable__label-arrow:before {content: \"▸\";float: left;margin-right: 0.25em;color: #696969;}#sk-container-id-1 label.sk-toggleable__label-arrow:hover:before {color: black;}#sk-container-id-1 div.sk-estimator:hover label.sk-toggleable__label-arrow:before {color: black;}#sk-container-id-1 div.sk-toggleable__content {max-height: 0;max-width: 0;overflow: hidden;text-align: left;background-color: #f0f8ff;}#sk-container-id-1 div.sk-toggleable__content pre {margin: 0.2em;color: black;border-radius: 0.25em;background-color: #f0f8ff;}#sk-container-id-1 input.sk-toggleable__control:checked~div.sk-toggleable__content {max-height: 200px;max-width: 100%;overflow: auto;}#sk-container-id-1 input.sk-toggleable__control:checked~label.sk-toggleable__label-arrow:before {content: \"▾\";}#sk-container-id-1 div.sk-estimator input.sk-toggleable__control:checked~label.sk-toggleable__label {background-color: #d4ebff;}#sk-container-id-1 div.sk-label input.sk-toggleable__control:checked~label.sk-toggleable__label {background-color: #d4ebff;}#sk-container-id-1 input.sk-hidden--visually {border: 0;clip: rect(1px 1px 1px 1px);clip: rect(1px, 1px, 1px, 1px);height: 1px;margin: -1px;overflow: hidden;padding: 0;position: absolute;width: 1px;}#sk-container-id-1 div.sk-estimator {font-family: monospace;background-color: #f0f8ff;border: 1px dotted black;border-radius: 0.25em;box-sizing: border-box;margin-bottom: 0.5em;}#sk-container-id-1 div.sk-estimator:hover {background-color: #d4ebff;}#sk-container-id-1 div.sk-parallel-item::after {content: \"\";width: 100%;border-bottom: 1px solid gray;flex-grow: 1;}#sk-container-id-1 div.sk-label:hover label.sk-toggleable__label {background-color: #d4ebff;}#sk-container-id-1 div.sk-serial::before {content: \"\";position: absolute;border-left: 1px solid gray;box-sizing: border-box;top: 0;bottom: 0;left: 50%;z-index: 0;}#sk-container-id-1 div.sk-serial {display: flex;flex-direction: column;align-items: center;background-color: white;padding-right: 0.2em;padding-left: 0.2em;position: relative;}#sk-container-id-1 div.sk-item {position: relative;z-index: 1;}#sk-container-id-1 div.sk-parallel {display: flex;align-items: stretch;justify-content: center;background-color: white;position: relative;}#sk-container-id-1 div.sk-item::before, #sk-container-id-1 div.sk-parallel-item::before {content: \"\";position: absolute;border-left: 1px solid gray;box-sizing: border-box;top: 0;bottom: 0;left: 50%;z-index: -1;}#sk-container-id-1 div.sk-parallel-item {display: flex;flex-direction: column;z-index: 1;position: relative;background-color: white;}#sk-container-id-1 div.sk-parallel-item:first-child::after {align-self: flex-end;width: 50%;}#sk-container-id-1 div.sk-parallel-item:last-child::after {align-self: flex-start;width: 50%;}#sk-container-id-1 div.sk-parallel-item:only-child::after {width: 0;}#sk-container-id-1 div.sk-dashed-wrapped {border: 1px dashed gray;margin: 0 0.4em 0.5em 0.4em;box-sizing: border-box;padding-bottom: 0.4em;background-color: white;}#sk-container-id-1 div.sk-label label {font-family: monospace;font-weight: bold;display: inline-block;line-height: 1.2em;}#sk-container-id-1 div.sk-label-container {text-align: center;}#sk-container-id-1 div.sk-container {/* jupyter's `normalize.less` sets `[hidden] { display: none; }` but bootstrap.min.css set `[hidden] { display: none !important; }` so we also need the `!important` here to be able to override the default hidden behavior on the sphinx rendered scikit-learn.org. See: https://github.com/scikit-learn/scikit-learn/issues/21755 */display: inline-block !important;position: relative;}#sk-container-id-1 div.sk-text-repr-fallback {display: none;}</style><div id=\"sk-container-id-1\" class=\"sk-top-container\"><div class=\"sk-text-repr-fallback\"><pre>LogisticRegression(max_iter=130)</pre><b>In a Jupyter environment, please rerun this cell to show the HTML representation or trust the notebook. <br />On GitHub, the HTML representation is unable to render, please try loading this page with nbviewer.org.</b></div><div class=\"sk-container\" hidden><div class=\"sk-item\"><div class=\"sk-estimator sk-toggleable\"><input class=\"sk-toggleable__control sk-hidden--visually\" id=\"sk-estimator-id-1\" type=\"checkbox\" checked><label for=\"sk-estimator-id-1\" class=\"sk-toggleable__label sk-toggleable__label-arrow\">LogisticRegression</label><div class=\"sk-toggleable__content\"><pre>LogisticRegression(max_iter=130)</pre></div></div></div></div></div>"
      ],
      "text/plain": [
       "LogisticRegression(max_iter=130)"
      ]
     },
     "execution_count": 22,
     "metadata": {},
     "output_type": "execute_result"
    }
   ],
   "source": [
    "from sklearn.linear_model import LogisticRegression\n",
    "model=LogisticRegression(max_iter=130)\n",
    "model.fit(X_train,y_train)"
   ]
  },
  {
   "cell_type": "code",
   "execution_count": 23,
   "id": "f9a71296",
   "metadata": {
    "execution": {
     "iopub.execute_input": "2023-08-17T17:33:25.026681Z",
     "iopub.status.busy": "2023-08-17T17:33:25.026285Z",
     "iopub.status.idle": "2023-08-17T17:33:25.035840Z",
     "shell.execute_reply": "2023-08-17T17:33:25.034640Z"
    },
    "papermill": {
     "duration": 0.022668,
     "end_time": "2023-08-17T17:33:25.038303",
     "exception": false,
     "start_time": "2023-08-17T17:33:25.015635",
     "status": "completed"
    },
    "tags": []
   },
   "outputs": [
    {
     "data": {
      "text/plain": [
       "array([0, 1, 0, 1, 0, 0, 0, 0, 1, 1, 0, 0, 0, 1, 0, 1, 0, 0, 0, 0, 0, 0,\n",
       "       0, 0, 1, 0, 1, 0, 1, 0, 0, 0, 1, 1, 1, 1, 0, 0, 1, 1, 0, 0, 0, 0,\n",
       "       0, 0, 0, 0, 0, 1, 1, 1, 0, 1, 1, 1, 1, 0, 0, 0, 1, 0, 0, 0, 0, 0,\n",
       "       0, 1, 0, 1, 0, 1, 0, 1, 0, 1, 1, 0, 0, 0, 0, 0, 0, 1, 1, 0, 0, 0,\n",
       "       0, 1, 0, 0, 0, 1, 1, 0, 1, 1, 1, 1, 0, 0, 0, 1, 1, 0, 0, 0, 0, 0,\n",
       "       0, 1, 1, 0, 0, 1, 0, 0, 1, 1, 1, 0, 1, 0, 0, 0, 1, 0, 0, 0, 0, 1,\n",
       "       1, 0, 0, 0, 0, 0, 1, 0, 0, 0, 1, 1, 0, 0, 0, 0, 1, 0, 0, 0, 0, 0,\n",
       "       1, 1, 0, 0, 1, 0, 1, 1, 0, 1, 0, 0, 1, 0, 0, 0, 1, 0, 0, 1, 0, 1,\n",
       "       0, 1, 1, 1, 0, 0, 1, 0, 0, 1, 0, 0, 0, 0, 0, 0, 1, 0, 1, 0, 0, 0,\n",
       "       0, 0, 1, 0, 1, 0, 0, 0, 1, 0, 0, 1, 0, 0, 0, 1, 0, 0, 1, 0, 0, 0,\n",
       "       0, 0, 0])"
      ]
     },
     "execution_count": 23,
     "metadata": {},
     "output_type": "execute_result"
    }
   ],
   "source": [
    "y_pred=model.predict(X_test)\n",
    "y_pred"
   ]
  },
  {
   "cell_type": "code",
   "execution_count": 24,
   "id": "2d6170ab",
   "metadata": {
    "execution": {
     "iopub.execute_input": "2023-08-17T17:33:25.061514Z",
     "iopub.status.busy": "2023-08-17T17:33:25.061116Z",
     "iopub.status.idle": "2023-08-17T17:33:25.069124Z",
     "shell.execute_reply": "2023-08-17T17:33:25.068108Z"
    },
    "papermill": {
     "duration": 0.0231,
     "end_time": "2023-08-17T17:33:25.071537",
     "exception": false,
     "start_time": "2023-08-17T17:33:25.048437",
     "status": "completed"
    },
    "tags": []
   },
   "outputs": [
    {
     "data": {
      "text/plain": [
       "0.7892376681614349"
      ]
     },
     "execution_count": 24,
     "metadata": {},
     "output_type": "execute_result"
    }
   ],
   "source": [
    "from sklearn.metrics import accuracy_score,classification_report\n",
    "accuracy_score(y_test,y_pred)"
   ]
  },
  {
   "cell_type": "code",
   "execution_count": 25,
   "id": "ee52f4a7",
   "metadata": {
    "execution": {
     "iopub.execute_input": "2023-08-17T17:33:25.093272Z",
     "iopub.status.busy": "2023-08-17T17:33:25.092865Z",
     "iopub.status.idle": "2023-08-17T17:33:25.106208Z",
     "shell.execute_reply": "2023-08-17T17:33:25.105203Z"
    },
    "papermill": {
     "duration": 0.027141,
     "end_time": "2023-08-17T17:33:25.108865",
     "exception": false,
     "start_time": "2023-08-17T17:33:25.081724",
     "status": "completed"
    },
    "tags": []
   },
   "outputs": [
    {
     "name": "stdout",
     "output_type": "stream",
     "text": [
      "              precision    recall  f1-score   support\n",
      "\n",
      "           0       0.83      0.85      0.84       143\n",
      "           1       0.71      0.69      0.70        80\n",
      "\n",
      "    accuracy                           0.79       223\n",
      "   macro avg       0.77      0.77      0.77       223\n",
      "weighted avg       0.79      0.79      0.79       223\n",
      "\n"
     ]
    }
   ],
   "source": [
    "print(classification_report(y_test,y_pred))"
   ]
  },
  {
   "cell_type": "code",
   "execution_count": 26,
   "id": "2b01c519",
   "metadata": {
    "execution": {
     "iopub.execute_input": "2023-08-17T17:33:25.131767Z",
     "iopub.status.busy": "2023-08-17T17:33:25.130664Z",
     "iopub.status.idle": "2023-08-17T17:33:25.154650Z",
     "shell.execute_reply": "2023-08-17T17:33:25.153027Z"
    },
    "papermill": {
     "duration": 0.037912,
     "end_time": "2023-08-17T17:33:25.157468",
     "exception": false,
     "start_time": "2023-08-17T17:33:25.119556",
     "status": "completed"
    },
    "tags": []
   },
   "outputs": [
    {
     "data": {
      "text/html": [
       "<div>\n",
       "<style scoped>\n",
       "    .dataframe tbody tr th:only-of-type {\n",
       "        vertical-align: middle;\n",
       "    }\n",
       "\n",
       "    .dataframe tbody tr th {\n",
       "        vertical-align: top;\n",
       "    }\n",
       "\n",
       "    .dataframe thead th {\n",
       "        text-align: right;\n",
       "    }\n",
       "</style>\n",
       "<table border=\"1\" class=\"dataframe\">\n",
       "  <thead>\n",
       "    <tr style=\"text-align: right;\">\n",
       "      <th></th>\n",
       "      <th>PassengerId</th>\n",
       "      <th>Pclass</th>\n",
       "      <th>Name</th>\n",
       "      <th>Sex</th>\n",
       "      <th>Age</th>\n",
       "      <th>SibSp</th>\n",
       "      <th>Parch</th>\n",
       "      <th>Ticket</th>\n",
       "      <th>Fare</th>\n",
       "      <th>Cabin</th>\n",
       "      <th>Embarked</th>\n",
       "    </tr>\n",
       "  </thead>\n",
       "  <tbody>\n",
       "    <tr>\n",
       "      <th>0</th>\n",
       "      <td>892</td>\n",
       "      <td>3</td>\n",
       "      <td>Kelly, Mr. James</td>\n",
       "      <td>male</td>\n",
       "      <td>34.5</td>\n",
       "      <td>0</td>\n",
       "      <td>0</td>\n",
       "      <td>330911</td>\n",
       "      <td>7.8292</td>\n",
       "      <td>NaN</td>\n",
       "      <td>Q</td>\n",
       "    </tr>\n",
       "    <tr>\n",
       "      <th>1</th>\n",
       "      <td>893</td>\n",
       "      <td>3</td>\n",
       "      <td>Wilkes, Mrs. James (Ellen Needs)</td>\n",
       "      <td>female</td>\n",
       "      <td>47.0</td>\n",
       "      <td>1</td>\n",
       "      <td>0</td>\n",
       "      <td>363272</td>\n",
       "      <td>7.0000</td>\n",
       "      <td>NaN</td>\n",
       "      <td>S</td>\n",
       "    </tr>\n",
       "    <tr>\n",
       "      <th>2</th>\n",
       "      <td>894</td>\n",
       "      <td>2</td>\n",
       "      <td>Myles, Mr. Thomas Francis</td>\n",
       "      <td>male</td>\n",
       "      <td>62.0</td>\n",
       "      <td>0</td>\n",
       "      <td>0</td>\n",
       "      <td>240276</td>\n",
       "      <td>9.6875</td>\n",
       "      <td>NaN</td>\n",
       "      <td>Q</td>\n",
       "    </tr>\n",
       "    <tr>\n",
       "      <th>3</th>\n",
       "      <td>895</td>\n",
       "      <td>3</td>\n",
       "      <td>Wirz, Mr. Albert</td>\n",
       "      <td>male</td>\n",
       "      <td>27.0</td>\n",
       "      <td>0</td>\n",
       "      <td>0</td>\n",
       "      <td>315154</td>\n",
       "      <td>8.6625</td>\n",
       "      <td>NaN</td>\n",
       "      <td>S</td>\n",
       "    </tr>\n",
       "    <tr>\n",
       "      <th>4</th>\n",
       "      <td>896</td>\n",
       "      <td>3</td>\n",
       "      <td>Hirvonen, Mrs. Alexander (Helga E Lindqvist)</td>\n",
       "      <td>female</td>\n",
       "      <td>22.0</td>\n",
       "      <td>1</td>\n",
       "      <td>1</td>\n",
       "      <td>3101298</td>\n",
       "      <td>12.2875</td>\n",
       "      <td>NaN</td>\n",
       "      <td>S</td>\n",
       "    </tr>\n",
       "  </tbody>\n",
       "</table>\n",
       "</div>"
      ],
      "text/plain": [
       "   PassengerId  Pclass                                          Name     Sex  \\\n",
       "0          892       3                              Kelly, Mr. James    male   \n",
       "1          893       3              Wilkes, Mrs. James (Ellen Needs)  female   \n",
       "2          894       2                     Myles, Mr. Thomas Francis    male   \n",
       "3          895       3                              Wirz, Mr. Albert    male   \n",
       "4          896       3  Hirvonen, Mrs. Alexander (Helga E Lindqvist)  female   \n",
       "\n",
       "    Age  SibSp  Parch   Ticket     Fare Cabin Embarked  \n",
       "0  34.5      0      0   330911   7.8292   NaN        Q  \n",
       "1  47.0      1      0   363272   7.0000   NaN        S  \n",
       "2  62.0      0      0   240276   9.6875   NaN        Q  \n",
       "3  27.0      0      0   315154   8.6625   NaN        S  \n",
       "4  22.0      1      1  3101298  12.2875   NaN        S  "
      ]
     },
     "execution_count": 26,
     "metadata": {},
     "output_type": "execute_result"
    }
   ],
   "source": [
    "test=pd.read_csv('/kaggle/input/titanic/test.csv')\n",
    "test.head()"
   ]
  },
  {
   "cell_type": "code",
   "execution_count": 27,
   "id": "b94554d1",
   "metadata": {
    "execution": {
     "iopub.execute_input": "2023-08-17T17:33:25.178991Z",
     "iopub.status.busy": "2023-08-17T17:33:25.178616Z",
     "iopub.status.idle": "2023-08-17T17:33:25.186022Z",
     "shell.execute_reply": "2023-08-17T17:33:25.184670Z"
    },
    "papermill": {
     "duration": 0.020734,
     "end_time": "2023-08-17T17:33:25.188430",
     "exception": false,
     "start_time": "2023-08-17T17:33:25.167696",
     "status": "completed"
    },
    "tags": []
   },
   "outputs": [],
   "source": [
    "test['Sex']=test['Sex'].map({\n",
    "    'female':1,\n",
    "    'male':0\n",
    "})"
   ]
  },
  {
   "cell_type": "code",
   "execution_count": 28,
   "id": "1ce5b8d1",
   "metadata": {
    "execution": {
     "iopub.execute_input": "2023-08-17T17:33:25.209398Z",
     "iopub.status.busy": "2023-08-17T17:33:25.209033Z",
     "iopub.status.idle": "2023-08-17T17:33:25.216156Z",
     "shell.execute_reply": "2023-08-17T17:33:25.214956Z"
    },
    "papermill": {
     "duration": 0.019674,
     "end_time": "2023-08-17T17:33:25.217947",
     "exception": false,
     "start_time": "2023-08-17T17:33:25.198273",
     "status": "completed"
    },
    "tags": []
   },
   "outputs": [],
   "source": [
    "test['Embarked']=test['Embarked'].map({\n",
    "    'S':0,\n",
    "    'C':1,\n",
    "    'Q':2\n",
    "})"
   ]
  },
  {
   "cell_type": "code",
   "execution_count": 29,
   "id": "0bcd134f",
   "metadata": {
    "execution": {
     "iopub.execute_input": "2023-08-17T17:33:25.239398Z",
     "iopub.status.busy": "2023-08-17T17:33:25.238960Z",
     "iopub.status.idle": "2023-08-17T17:33:25.253150Z",
     "shell.execute_reply": "2023-08-17T17:33:25.251005Z"
    },
    "papermill": {
     "duration": 0.027813,
     "end_time": "2023-08-17T17:33:25.255391",
     "exception": false,
     "start_time": "2023-08-17T17:33:25.227578",
     "status": "completed"
    },
    "tags": []
   },
   "outputs": [
    {
     "name": "stdout",
     "output_type": "stream",
     "text": [
      "<class 'pandas.core.frame.DataFrame'>\n",
      "RangeIndex: 418 entries, 0 to 417\n",
      "Data columns (total 11 columns):\n",
      " #   Column       Non-Null Count  Dtype  \n",
      "---  ------       --------------  -----  \n",
      " 0   PassengerId  418 non-null    int64  \n",
      " 1   Pclass       418 non-null    int64  \n",
      " 2   Name         418 non-null    object \n",
      " 3   Sex          418 non-null    int64  \n",
      " 4   Age          332 non-null    float64\n",
      " 5   SibSp        418 non-null    int64  \n",
      " 6   Parch        418 non-null    int64  \n",
      " 7   Ticket       418 non-null    object \n",
      " 8   Fare         417 non-null    float64\n",
      " 9   Cabin        91 non-null     object \n",
      " 10  Embarked     418 non-null    int64  \n",
      "dtypes: float64(2), int64(6), object(3)\n",
      "memory usage: 36.0+ KB\n"
     ]
    }
   ],
   "source": [
    "test.info()"
   ]
  },
  {
   "cell_type": "code",
   "execution_count": 30,
   "id": "19c07e6d",
   "metadata": {
    "execution": {
     "iopub.execute_input": "2023-08-17T17:33:25.278617Z",
     "iopub.status.busy": "2023-08-17T17:33:25.278223Z",
     "iopub.status.idle": "2023-08-17T17:33:25.289089Z",
     "shell.execute_reply": "2023-08-17T17:33:25.287372Z"
    },
    "papermill": {
     "duration": 0.025951,
     "end_time": "2023-08-17T17:33:25.291985",
     "exception": false,
     "start_time": "2023-08-17T17:33:25.266034",
     "status": "completed"
    },
    "tags": []
   },
   "outputs": [
    {
     "data": {
      "text/plain": [
       "PassengerId      0\n",
       "Pclass           0\n",
       "Name             0\n",
       "Sex              0\n",
       "Age             86\n",
       "SibSp            0\n",
       "Parch            0\n",
       "Ticket           0\n",
       "Fare             1\n",
       "Cabin          327\n",
       "Embarked         0\n",
       "dtype: int64"
      ]
     },
     "execution_count": 30,
     "metadata": {},
     "output_type": "execute_result"
    }
   ],
   "source": [
    "test.isnull().sum()"
   ]
  },
  {
   "cell_type": "code",
   "execution_count": 31,
   "id": "a6336c23",
   "metadata": {
    "execution": {
     "iopub.execute_input": "2023-08-17T17:33:25.314742Z",
     "iopub.status.busy": "2023-08-17T17:33:25.314337Z",
     "iopub.status.idle": "2023-08-17T17:33:25.321330Z",
     "shell.execute_reply": "2023-08-17T17:33:25.319753Z"
    },
    "papermill": {
     "duration": 0.021745,
     "end_time": "2023-08-17T17:33:25.324252",
     "exception": false,
     "start_time": "2023-08-17T17:33:25.302507",
     "status": "completed"
    },
    "tags": []
   },
   "outputs": [],
   "source": [
    "test.Fare.interpolate(inplace=True)"
   ]
  },
  {
   "cell_type": "code",
   "execution_count": 32,
   "id": "eccaa7dc",
   "metadata": {
    "execution": {
     "iopub.execute_input": "2023-08-17T17:33:25.350264Z",
     "iopub.status.busy": "2023-08-17T17:33:25.349762Z",
     "iopub.status.idle": "2023-08-17T17:33:25.356866Z",
     "shell.execute_reply": "2023-08-17T17:33:25.355476Z"
    },
    "papermill": {
     "duration": 0.023818,
     "end_time": "2023-08-17T17:33:25.359565",
     "exception": false,
     "start_time": "2023-08-17T17:33:25.335747",
     "status": "completed"
    },
    "tags": []
   },
   "outputs": [],
   "source": [
    "test.Age.interpolate(inplace=True)"
   ]
  },
  {
   "cell_type": "code",
   "execution_count": 33,
   "id": "a07b4e8a",
   "metadata": {
    "execution": {
     "iopub.execute_input": "2023-08-17T17:33:25.383306Z",
     "iopub.status.busy": "2023-08-17T17:33:25.382870Z",
     "iopub.status.idle": "2023-08-17T17:33:25.396471Z",
     "shell.execute_reply": "2023-08-17T17:33:25.394795Z"
    },
    "papermill": {
     "duration": 0.028172,
     "end_time": "2023-08-17T17:33:25.399081",
     "exception": false,
     "start_time": "2023-08-17T17:33:25.370909",
     "status": "completed"
    },
    "tags": []
   },
   "outputs": [
    {
     "data": {
      "text/plain": [
       "array([0, 0, 0, 0, 1, 0, 1, 0, 1, 0, 0, 0, 1, 0, 1, 1, 0, 0, 1, 1, 0, 0,\n",
       "       1, 1, 1, 0, 1, 0, 0, 0, 0, 0, 0, 0, 1, 0, 1, 1, 0, 0, 0, 0, 0, 1,\n",
       "       1, 0, 0, 0, 1, 0, 1, 0, 1, 1, 0, 0, 0, 0, 0, 1, 0, 0, 0, 1, 1, 1,\n",
       "       1, 0, 1, 1, 1, 0, 1, 1, 1, 1, 0, 1, 0, 1, 0, 0, 0, 0, 0, 0, 1, 1,\n",
       "       1, 0, 1, 0, 1, 0, 1, 0, 1, 0, 1, 0, 1, 0, 0, 0, 1, 0, 0, 0, 0, 0,\n",
       "       0, 1, 1, 1, 1, 0, 0, 1, 1, 1, 1, 0, 1, 0, 0, 1, 0, 1, 0, 0, 0, 0,\n",
       "       0, 0, 0, 0, 0, 0, 1, 0, 0, 1, 0, 0, 0, 0, 1, 0, 1, 0, 1, 0, 0, 0,\n",
       "       0, 0, 1, 1, 0, 1, 1, 0, 1, 0, 0, 1, 0, 0, 1, 1, 0, 0, 0, 0, 0, 1,\n",
       "       1, 0, 1, 1, 0, 0, 1, 0, 1, 0, 1, 0, 0, 0, 0, 1, 0, 0, 0, 0, 1, 1,\n",
       "       0, 1, 1, 0, 0, 1, 0, 1, 1, 0, 1, 0, 0, 0, 0, 0, 0, 0, 1, 0, 1, 0,\n",
       "       1, 0, 1, 0, 1, 1, 0, 1, 0, 0, 0, 1, 0, 0, 0, 0, 0, 0, 1, 1, 1, 1,\n",
       "       0, 0, 0, 0, 1, 0, 1, 1, 1, 0, 1, 0, 0, 0, 0, 0, 1, 0, 0, 0, 1, 1,\n",
       "       0, 0, 1, 0, 1, 0, 0, 0, 1, 1, 0, 1, 0, 0, 0, 0, 1, 0, 1, 1, 1, 0,\n",
       "       0, 1, 0, 0, 1, 1, 0, 0, 0, 0, 1, 0, 1, 0, 0, 0, 0, 0, 1, 1, 0, 0,\n",
       "       0, 0, 0, 0, 0, 1, 1, 1, 0, 0, 0, 0, 0, 0, 0, 0, 1, 0, 1, 0, 0, 0,\n",
       "       1, 1, 0, 1, 0, 0, 0, 0, 0, 0, 0, 0, 0, 1, 0, 1, 0, 1, 0, 1, 1, 0,\n",
       "       0, 0, 1, 0, 1, 0, 0, 1, 0, 1, 1, 0, 1, 0, 0, 1, 1, 0, 0, 1, 0, 0,\n",
       "       1, 1, 1, 0, 0, 0, 0, 0, 1, 1, 0, 1, 0, 0, 0, 0, 1, 1, 0, 0, 0, 1,\n",
       "       0, 1, 0, 0, 1, 0, 1, 1, 0, 0, 0, 0, 1, 1, 1, 1, 1, 0, 1, 0, 0, 0])"
      ]
     },
     "execution_count": 33,
     "metadata": {},
     "output_type": "execute_result"
    }
   ],
   "source": [
    "test_pred=model.predict(test.drop(['PassengerId','Name','Ticket','Cabin'],axis=1))\n",
    "test_pred"
   ]
  },
  {
   "cell_type": "code",
   "execution_count": 34,
   "id": "78067b08",
   "metadata": {
    "execution": {
     "iopub.execute_input": "2023-08-17T17:33:25.422321Z",
     "iopub.status.busy": "2023-08-17T17:33:25.421935Z",
     "iopub.status.idle": "2023-08-17T17:33:25.428032Z",
     "shell.execute_reply": "2023-08-17T17:33:25.426753Z"
    },
    "papermill": {
     "duration": 0.021159,
     "end_time": "2023-08-17T17:33:25.430991",
     "exception": false,
     "start_time": "2023-08-17T17:33:25.409832",
     "status": "completed"
    },
    "tags": []
   },
   "outputs": [],
   "source": [
    "test['Survived']=test_pred"
   ]
  },
  {
   "cell_type": "code",
   "execution_count": 35,
   "id": "ccb40c3d",
   "metadata": {
    "execution": {
     "iopub.execute_input": "2023-08-17T17:33:25.453641Z",
     "iopub.status.busy": "2023-08-17T17:33:25.453229Z",
     "iopub.status.idle": "2023-08-17T17:33:25.470594Z",
     "shell.execute_reply": "2023-08-17T17:33:25.469415Z"
    },
    "papermill": {
     "duration": 0.031323,
     "end_time": "2023-08-17T17:33:25.472902",
     "exception": false,
     "start_time": "2023-08-17T17:33:25.441579",
     "status": "completed"
    },
    "tags": []
   },
   "outputs": [
    {
     "data": {
      "text/html": [
       "<div>\n",
       "<style scoped>\n",
       "    .dataframe tbody tr th:only-of-type {\n",
       "        vertical-align: middle;\n",
       "    }\n",
       "\n",
       "    .dataframe tbody tr th {\n",
       "        vertical-align: top;\n",
       "    }\n",
       "\n",
       "    .dataframe thead th {\n",
       "        text-align: right;\n",
       "    }\n",
       "</style>\n",
       "<table border=\"1\" class=\"dataframe\">\n",
       "  <thead>\n",
       "    <tr style=\"text-align: right;\">\n",
       "      <th></th>\n",
       "      <th>PassengerId</th>\n",
       "      <th>Pclass</th>\n",
       "      <th>Name</th>\n",
       "      <th>Sex</th>\n",
       "      <th>Age</th>\n",
       "      <th>SibSp</th>\n",
       "      <th>Parch</th>\n",
       "      <th>Ticket</th>\n",
       "      <th>Fare</th>\n",
       "      <th>Cabin</th>\n",
       "      <th>Embarked</th>\n",
       "      <th>Survived</th>\n",
       "    </tr>\n",
       "  </thead>\n",
       "  <tbody>\n",
       "    <tr>\n",
       "      <th>0</th>\n",
       "      <td>892</td>\n",
       "      <td>3</td>\n",
       "      <td>Kelly, Mr. James</td>\n",
       "      <td>0</td>\n",
       "      <td>34.5</td>\n",
       "      <td>0</td>\n",
       "      <td>0</td>\n",
       "      <td>330911</td>\n",
       "      <td>7.8292</td>\n",
       "      <td>NaN</td>\n",
       "      <td>2</td>\n",
       "      <td>0</td>\n",
       "    </tr>\n",
       "    <tr>\n",
       "      <th>1</th>\n",
       "      <td>893</td>\n",
       "      <td>3</td>\n",
       "      <td>Wilkes, Mrs. James (Ellen Needs)</td>\n",
       "      <td>1</td>\n",
       "      <td>47.0</td>\n",
       "      <td>1</td>\n",
       "      <td>0</td>\n",
       "      <td>363272</td>\n",
       "      <td>7.0000</td>\n",
       "      <td>NaN</td>\n",
       "      <td>0</td>\n",
       "      <td>0</td>\n",
       "    </tr>\n",
       "    <tr>\n",
       "      <th>2</th>\n",
       "      <td>894</td>\n",
       "      <td>2</td>\n",
       "      <td>Myles, Mr. Thomas Francis</td>\n",
       "      <td>0</td>\n",
       "      <td>62.0</td>\n",
       "      <td>0</td>\n",
       "      <td>0</td>\n",
       "      <td>240276</td>\n",
       "      <td>9.6875</td>\n",
       "      <td>NaN</td>\n",
       "      <td>2</td>\n",
       "      <td>0</td>\n",
       "    </tr>\n",
       "    <tr>\n",
       "      <th>3</th>\n",
       "      <td>895</td>\n",
       "      <td>3</td>\n",
       "      <td>Wirz, Mr. Albert</td>\n",
       "      <td>0</td>\n",
       "      <td>27.0</td>\n",
       "      <td>0</td>\n",
       "      <td>0</td>\n",
       "      <td>315154</td>\n",
       "      <td>8.6625</td>\n",
       "      <td>NaN</td>\n",
       "      <td>0</td>\n",
       "      <td>0</td>\n",
       "    </tr>\n",
       "    <tr>\n",
       "      <th>4</th>\n",
       "      <td>896</td>\n",
       "      <td>3</td>\n",
       "      <td>Hirvonen, Mrs. Alexander (Helga E Lindqvist)</td>\n",
       "      <td>1</td>\n",
       "      <td>22.0</td>\n",
       "      <td>1</td>\n",
       "      <td>1</td>\n",
       "      <td>3101298</td>\n",
       "      <td>12.2875</td>\n",
       "      <td>NaN</td>\n",
       "      <td>0</td>\n",
       "      <td>1</td>\n",
       "    </tr>\n",
       "  </tbody>\n",
       "</table>\n",
       "</div>"
      ],
      "text/plain": [
       "   PassengerId  Pclass                                          Name  Sex  \\\n",
       "0          892       3                              Kelly, Mr. James    0   \n",
       "1          893       3              Wilkes, Mrs. James (Ellen Needs)    1   \n",
       "2          894       2                     Myles, Mr. Thomas Francis    0   \n",
       "3          895       3                              Wirz, Mr. Albert    0   \n",
       "4          896       3  Hirvonen, Mrs. Alexander (Helga E Lindqvist)    1   \n",
       "\n",
       "    Age  SibSp  Parch   Ticket     Fare Cabin  Embarked  Survived  \n",
       "0  34.5      0      0   330911   7.8292   NaN         2         0  \n",
       "1  47.0      1      0   363272   7.0000   NaN         0         0  \n",
       "2  62.0      0      0   240276   9.6875   NaN         2         0  \n",
       "3  27.0      0      0   315154   8.6625   NaN         0         0  \n",
       "4  22.0      1      1  3101298  12.2875   NaN         0         1  "
      ]
     },
     "execution_count": 35,
     "metadata": {},
     "output_type": "execute_result"
    }
   ],
   "source": [
    "test.head()"
   ]
  },
  {
   "cell_type": "code",
   "execution_count": 36,
   "id": "9828c835",
   "metadata": {
    "execution": {
     "iopub.execute_input": "2023-08-17T17:33:25.496466Z",
     "iopub.status.busy": "2023-08-17T17:33:25.496101Z",
     "iopub.status.idle": "2023-08-17T17:33:25.503005Z",
     "shell.execute_reply": "2023-08-17T17:33:25.501467Z"
    },
    "papermill": {
     "duration": 0.021504,
     "end_time": "2023-08-17T17:33:25.505582",
     "exception": false,
     "start_time": "2023-08-17T17:33:25.484078",
     "status": "completed"
    },
    "tags": []
   },
   "outputs": [],
   "source": [
    "test.set_index('PassengerId',inplace=True)"
   ]
  },
  {
   "cell_type": "code",
   "execution_count": 37,
   "id": "df21cfee",
   "metadata": {
    "execution": {
     "iopub.execute_input": "2023-08-17T17:33:25.528503Z",
     "iopub.status.busy": "2023-08-17T17:33:25.528096Z",
     "iopub.status.idle": "2023-08-17T17:33:25.536335Z",
     "shell.execute_reply": "2023-08-17T17:33:25.535512Z"
    },
    "papermill": {
     "duration": 0.022555,
     "end_time": "2023-08-17T17:33:25.538845",
     "exception": false,
     "start_time": "2023-08-17T17:33:25.516290",
     "status": "completed"
    },
    "tags": []
   },
   "outputs": [],
   "source": [
    "test['Survived'].to_csv('Titanic_Submission.csv')"
   ]
  }
 ],
 "metadata": {
  "kernelspec": {
   "display_name": "Python 3",
   "language": "python",
   "name": "python3"
  },
  "language_info": {
   "codemirror_mode": {
    "name": "ipython",
    "version": 3
   },
   "file_extension": ".py",
   "mimetype": "text/x-python",
   "name": "python",
   "nbconvert_exporter": "python",
   "pygments_lexer": "ipython3",
   "version": "3.10.12"
  },
  "papermill": {
   "default_parameters": {},
   "duration": 13.340209,
   "end_time": "2023-08-17T17:33:26.673060",
   "environment_variables": {},
   "exception": null,
   "input_path": "__notebook__.ipynb",
   "output_path": "__notebook__.ipynb",
   "parameters": {},
   "start_time": "2023-08-17T17:33:13.332851",
   "version": "2.4.0"
  }
 },
 "nbformat": 4,
 "nbformat_minor": 5
}
